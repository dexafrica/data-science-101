{
 "cells": [
  {
   "cell_type": "markdown",
   "metadata": {},
   "source": [
    "# Assignment 01"
   ]
  },
  {
   "cell_type": "markdown",
   "metadata": {},
   "source": [
    "The first task is to import the data files into the R environment. This is done by using the \"read.csv\" command to import in the two datasets (ct1.csv and ct2.csv)."
   ]
  },
  {
   "cell_type": "code",
   "execution_count": 1,
   "metadata": {},
   "outputs": [],
   "source": [
    "# code to load csv files\n",
    "ct1 <- read.csv(file = \"../datasets/exercises/01/ct1.csv\", header = TRUE, sep = \",\")\n",
    "ct2 <- read.csv(file = \"../datasets/exercises/01/ct1.csv\", header = TRUE, sep = \",\")"
   ]
  },
  {
   "cell_type": "markdown",
   "metadata": {},
   "source": [
    "Check the data is <b>successfully loaded</b> into the <i>ct1</i> and <i>ct2</i> variables using the \"head\" function."
   ]
  },
  {
   "cell_type": "code",
   "execution_count": null,
   "metadata": {},
   "outputs": [],
   "source": [
    "head (ct1, 5) # shows first 5 rows of ct1 dataframe\n",
    "head (ct2, 5) # shows first 5 rows of ct2 dataframe"
   ]
  },
  {
   "cell_type": "markdown",
   "metadata": {},
   "source": [
    "<strong>Task 2 :</strong> In this task, create three additional variables as stated below;\n",
    "<ul>\n",
    "    <li>Variable 1, an indicator for someone weighing over 50kg <em>(over50kg)</em></li>\n",
    "    <li>Variable 2, an indicator for someone  traveling more than 4 km <em>(over4km)</em></li>\n",
    "    <li>Variable 3, an indicator for a full time worker who travels over 4km <em>(ftover4km)</em></li>\n",
    "</ul>"
   ]
  },
  {
   "cell_type": "code",
   "execution_count": 2,
   "metadata": {},
   "outputs": [],
   "source": [
    "over50kg <- ifelse(ct1$weight > 50, 1, 0)\n",
    "over4km <- ifelse(ct1$dist > 4, 1, 0)\n",
    "ftover4km <- ifelse(ct1$ftworker == 1 & ct1$dist > 4, 1, 0)"
   ]
  },
  {
   "cell_type": "markdown",
   "metadata": {},
   "source": [
    "\n",
    "<u><strong>Task 2 notes</strong></u><br/>\n",
    "This task creates three (3) dataframe variables with values that meet the condition specified. In the first variable, it is seen that all records which meet the condition herein greater than 50kg are marked as 1 or 0 if otherwise for each row. Similarly, in the second variable (over4km), rows are marked 1 for distances above 4km and 0 for less than 4km. "
   ]
  },
  {
   "cell_type": "markdown",
   "metadata": {},
   "source": [
    "<strong>Task 3: <strong> In this task, the newly created variables in the previous task are appended to the ct1 dataframe. This means the variables will be added as new columns in the ct1 dataset. This makes it easier for analysis because code will be targeting the dataframe."
   ]
  },
  {
   "cell_type": "code",
   "execution_count": 3,
   "metadata": {},
   "outputs": [],
   "source": [
    "ct1 <- cbind(ct1, over50kg, over4km, ftover4km)"
   ]
  },
  {
   "cell_type": "code",
   "execution_count": null,
   "metadata": {},
   "outputs": [],
   "source": [
    "ct1   # view the resuls of the new dataframe"
   ]
  },
  {
   "cell_type": "markdown",
   "metadata": {},
   "source": [
    "Task 4: Create popbabilities "
   ]
  },
  {
   "cell_type": "code",
   "execution_count": null,
   "metadata": {},
   "outputs": [],
   "source": [
    "# Q1 - What is P(A), the probability that someone is over 50kg?\n",
    "pa <- sum(ct1$over50kg) / nrow(ct1) \n",
    "pa\n",
    "\n",
    "#Q2 - What is P(B), the probability that someone travels over 4km in the day?\n",
    "pb <- sum(ct1$over4km) / nrow(ct1)\n",
    "pb\n",
    "\n",
    "#Q3 - What is P(C), the probability that someone is a full-time worker?\n",
    "pc <- sum(ct1$ftworker) / nrow(ct1)\n",
    "pc\n",
    "\n",
    "#Q4 - What is P(A∩C), the probability that someone is a full-time worker AND over 50kg?\n",
    "#** - P(A∩C) = P(A) * P(C)\n",
    "pac <- pa * pc\n",
    "pac\n",
    "\n",
    "#Q5 - What is P(D), the probability that someone is a full-time worker OR travels over 4km in the day?\n",
    "ftORover4km <- ifelse(ct1$ftworker == 1 | ct1$dist > 4, 1, 0)\n",
    "ct1 <- cbind(ct1, ftORover4km)\n",
    "pd = sum(ct1$ftORover4km) / nrow(ct1)\n",
    "pd"
   ]
  },
  {
   "cell_type": "markdown",
   "metadata": {},
   "source": [
    "Task 5: create histograms\n",
    "Q7 - For CT1, does dist appear to be normally distributed?\n",
    "Q8 - For CT1, does age appear to be normally distributed?\n",
    "Q9 - For CT1, does ftworker appear to be normally distributed?"
   ]
  },
  {
   "cell_type": "code",
   "execution_count": null,
   "metadata": {},
   "outputs": [],
   "source": [
    "par(mfrow=c(1, 3))\n",
    "hist(ct1$dist)\n",
    "hist(ct1$age)\n",
    "hist(ct1$ftworker)"
   ]
  },
  {
   "cell_type": "code",
   "execution_count": 15,
   "metadata": {},
   "outputs": [
    {
     "ename": "ERROR",
     "evalue": "Error in parse(text = x, srcfile = src): <text>:9:0: unexpected end of input\n7: # Q12 - For CT1, what is the arithmetic mean of distance traveled?\n8: mean.dist.ct1 <- \n  ^\n",
     "output_type": "error",
     "traceback": [
      "Error in parse(text = x, srcfile = src): <text>:9:0: unexpected end of input\n7: # Q12 - For CT1, what is the arithmetic mean of distance traveled?\n8: mean.dist.ct1 <- \n  ^\nTraceback:\n"
     ]
    }
   ],
   "source": [
    "# Q10 - For CT1, how many observations for dist (n) are there? \n",
    "num.rows.ct1 <- nrow(ct1)\n",
    "\n",
    "# Q11 - For CT1, what is the sum of all the observations of distance traveled?\n",
    "sum.dist.ct1 <- sum(ct1$dist)\n",
    "\n",
    "# Q12 - For CT1, what is the arithmetic mean of distance traveled?\n",
    "mean.dist.ct1 <- sum.dist.ct1/num.rows.ct1\n",
    "\n",
    "# Q13 - For CT2, how many observations for dist (n) are there?\n",
    "num.rows.ct2 <- nrow(ct2)\n",
    "\n",
    "# Q14 - For CT2, what is the sum of all the observations of distance traveled?\n",
    "sum.dist.ct2 <- sum(ct2$dist)\n",
    "\n",
    "# Q15 - For CT2, what is the arithmetic mean of distance traveled?\n",
    "mean.dist.ct2 <- sum.dist.ct2/num.rows.ct2\n",
    "\n",
    "# Q16 - For CT1, what is Pn i=1(xi − x¯)2 for distance?\n",
    "dev.dist.ct1 <- sum((ct1$dist - mean.dist.ct1)^2)\n",
    "\n",
    "# Q17 - For CT1, what is σ2 for distance?\n",
    "var.dist.ct1 <- dev.dist.ct1/num.row"
   ]
  },
  {
   "cell_type": "code",
   "execution_count": 14,
   "metadata": {},
   "outputs": [
    {
     "data": {
      "text/html": [
       "2160"
      ],
      "text/latex": [
       "2160"
      ],
      "text/markdown": [
       "2160"
      ],
      "text/plain": [
       "[1] 2160"
      ]
     },
     "metadata": {},
     "output_type": "display_data"
    }
   ],
   "source": [
    "num.rows"
   ]
  },
  {
   "cell_type": "code",
   "execution_count": null,
   "metadata": {},
   "outputs": [],
   "source": []
  }
 ],
 "metadata": {
  "kernelspec": {
   "display_name": "R",
   "language": "R",
   "name": "ir"
  },
  "language_info": {
   "codemirror_mode": "r",
   "file_extension": ".r",
   "mimetype": "text/x-r-source",
   "name": "R",
   "pygments_lexer": "r",
   "version": "3.4.3"
  }
 },
 "nbformat": 4,
 "nbformat_minor": 2
}
