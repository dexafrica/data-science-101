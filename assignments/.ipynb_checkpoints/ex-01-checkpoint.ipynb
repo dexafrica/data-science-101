{
 "cells": [
  {
   "cell_type": "markdown",
   "metadata": {},
   "source": [
    "# Assignment 01"
   ]
  },
  {
   "cell_type": "markdown",
   "metadata": {},
   "source": [
    "The first task, imports the data files into the R environment. This is done by using the \"read.csv\" command to import in the two datasets (ct1.csv and ct2.csv)."
   ]
  },
  {
   "cell_type": "code",
   "execution_count": 1,
   "metadata": {},
   "outputs": [],
   "source": [
    "ct1 <- read.csv(file = \"../datasets/exercises/01/ct1.csv\", header = TRUE, sep = \",\")\n",
    "ct2 <- read.csv(file = \"../datasets/exercises/01/ct1.csv\", header = TRUE, sep = \",\")"
   ]
  },
  {
   "cell_type": "code",
   "execution_count": null,
   "metadata": {},
   "outputs": [],
   "source": [
    "Check the data is successfully loaded in the ct1 and ct2 variables using the \"head\" function."
   ]
  },
  {
   "cell_type": "code",
   "execution_count": 7,
   "metadata": {},
   "outputs": [
    {
     "data": {
      "text/html": [
       "<table>\n",
       "<thead><tr><th scope=col>dist</th><th scope=col>age</th><th scope=col>weight</th><th scope=col>ftworker</th><th scope=col>uid</th></tr></thead>\n",
       "<tbody>\n",
       "\t<tr><td>6.536524</td><td>62      </td><td>88.56630</td><td>0       </td><td>10001   </td></tr>\n",
       "\t<tr><td>5.095941</td><td>36      </td><td>94.15676</td><td>1       </td><td>10002   </td></tr>\n",
       "\t<tr><td>3.402865</td><td>23      </td><td>57.84734</td><td>1       </td><td>10003   </td></tr>\n",
       "\t<tr><td>7.177867</td><td>48      </td><td>22.97274</td><td>1       </td><td>10004   </td></tr>\n",
       "\t<tr><td>3.731175</td><td>42      </td><td>89.29586</td><td>0       </td><td>10005   </td></tr>\n",
       "</tbody>\n",
       "</table>\n"
      ],
      "text/latex": [
       "\\begin{tabular}{r|lllll}\n",
       " dist & age & weight & ftworker & uid\\\\\n",
       "\\hline\n",
       "\t 6.536524 & 62       & 88.56630 & 0        & 10001   \\\\\n",
       "\t 5.095941 & 36       & 94.15676 & 1        & 10002   \\\\\n",
       "\t 3.402865 & 23       & 57.84734 & 1        & 10003   \\\\\n",
       "\t 7.177867 & 48       & 22.97274 & 1        & 10004   \\\\\n",
       "\t 3.731175 & 42       & 89.29586 & 0        & 10005   \\\\\n",
       "\\end{tabular}\n"
      ],
      "text/markdown": [
       "\n",
       "| dist | age | weight | ftworker | uid |\n",
       "|---|---|---|---|---|\n",
       "| 6.536524 | 62       | 88.56630 | 0        | 10001    |\n",
       "| 5.095941 | 36       | 94.15676 | 1        | 10002    |\n",
       "| 3.402865 | 23       | 57.84734 | 1        | 10003    |\n",
       "| 7.177867 | 48       | 22.97274 | 1        | 10004    |\n",
       "| 3.731175 | 42       | 89.29586 | 0        | 10005    |\n",
       "\n"
      ],
      "text/plain": [
       "  dist     age weight   ftworker uid  \n",
       "1 6.536524 62  88.56630 0        10001\n",
       "2 5.095941 36  94.15676 1        10002\n",
       "3 3.402865 23  57.84734 1        10003\n",
       "4 7.177867 48  22.97274 1        10004\n",
       "5 3.731175 42  89.29586 0        10005"
      ]
     },
     "metadata": {},
     "output_type": "display_data"
    },
    {
     "data": {
      "text/html": [
       "<table>\n",
       "<thead><tr><th scope=col>dist</th><th scope=col>age</th><th scope=col>weight</th><th scope=col>ftworker</th><th scope=col>uid</th></tr></thead>\n",
       "<tbody>\n",
       "\t<tr><td>6.536524</td><td>62      </td><td>88.56630</td><td>0       </td><td>10001   </td></tr>\n",
       "\t<tr><td>5.095941</td><td>36      </td><td>94.15676</td><td>1       </td><td>10002   </td></tr>\n",
       "\t<tr><td>3.402865</td><td>23      </td><td>57.84734</td><td>1       </td><td>10003   </td></tr>\n",
       "\t<tr><td>7.177867</td><td>48      </td><td>22.97274</td><td>1       </td><td>10004   </td></tr>\n",
       "\t<tr><td>3.731175</td><td>42      </td><td>89.29586</td><td>0       </td><td>10005   </td></tr>\n",
       "</tbody>\n",
       "</table>\n"
      ],
      "text/latex": [
       "\\begin{tabular}{r|lllll}\n",
       " dist & age & weight & ftworker & uid\\\\\n",
       "\\hline\n",
       "\t 6.536524 & 62       & 88.56630 & 0        & 10001   \\\\\n",
       "\t 5.095941 & 36       & 94.15676 & 1        & 10002   \\\\\n",
       "\t 3.402865 & 23       & 57.84734 & 1        & 10003   \\\\\n",
       "\t 7.177867 & 48       & 22.97274 & 1        & 10004   \\\\\n",
       "\t 3.731175 & 42       & 89.29586 & 0        & 10005   \\\\\n",
       "\\end{tabular}\n"
      ],
      "text/markdown": [
       "\n",
       "| dist | age | weight | ftworker | uid |\n",
       "|---|---|---|---|---|\n",
       "| 6.536524 | 62       | 88.56630 | 0        | 10001    |\n",
       "| 5.095941 | 36       | 94.15676 | 1        | 10002    |\n",
       "| 3.402865 | 23       | 57.84734 | 1        | 10003    |\n",
       "| 7.177867 | 48       | 22.97274 | 1        | 10004    |\n",
       "| 3.731175 | 42       | 89.29586 | 0        | 10005    |\n",
       "\n"
      ],
      "text/plain": [
       "  dist     age weight   ftworker uid  \n",
       "1 6.536524 62  88.56630 0        10001\n",
       "2 5.095941 36  94.15676 1        10002\n",
       "3 3.402865 23  57.84734 1        10003\n",
       "4 7.177867 48  22.97274 1        10004\n",
       "5 3.731175 42  89.29586 0        10005"
      ]
     },
     "metadata": {},
     "output_type": "display_data"
    }
   ],
   "source": [
    "head (ct1, 5) # shows first 5 rows of ct1 dataframe\n",
    "head (ct2, 5) # shows first 5 rows of ct2 dataframe"
   ]
  },
  {
   "cell_type": "code",
   "execution_count": null,
   "metadata": {},
   "outputs": [],
   "source": []
  }
 ],
 "metadata": {
  "kernelspec": {
   "display_name": "R",
   "language": "R",
   "name": "ir"
  },
  "language_info": {
   "codemirror_mode": "r",
   "file_extension": ".r",
   "mimetype": "text/x-r-source",
   "name": "R",
   "pygments_lexer": "r",
   "version": "3.4.3"
  }
 },
 "nbformat": 4,
 "nbformat_minor": 2
}
