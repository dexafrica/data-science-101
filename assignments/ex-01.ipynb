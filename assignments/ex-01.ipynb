{
 "cells": [
  {
   "cell_type": "markdown",
   "metadata": {},
   "source": [
    "# Assignment 01"
   ]
  },
  {
   "cell_type": "markdown",
   "metadata": {},
   "source": [
    "The first task is to import the data files into the R environment. This is done by using the \"read.csv\" command to import in the two datasets (ct1.csv and ct2.csv)."
   ]
  },
  {
   "cell_type": "code",
   "execution_count": null,
   "metadata": {},
   "outputs": [],
   "source": [
    "# code to load csv files\n",
    "ct1 <- read.csv(file = \"../datasets/exercises/01/ct1.csv\", header = TRUE, sep = \",\")\n",
    "ct2 <- read.csv(file = \"../datasets/exercises/01/ct1.csv\", header = TRUE, sep = \",\")"
   ]
  },
  {
   "cell_type": "markdown",
   "metadata": {},
   "source": [
    "Check the data is <b>successfully loaded</b> into the <i>ct1</i> and <i>ct2</i> variables using the \"head\" function."
   ]
  },
  {
   "cell_type": "code",
   "execution_count": null,
   "metadata": {},
   "outputs": [],
   "source": [
    "head (ct1, 5) # shows first 5 rows of ct1 dataframe\n",
    "head (ct2, 5) # shows first 5 rows of ct2 dataframe"
   ]
  },
  {
   "cell_type": "code",
   "execution_count": null,
   "metadata": {},
   "outputs": [],
   "source": []
  }
 ],
 "metadata": {
  "kernelspec": {
   "display_name": "R",
   "language": "R",
   "name": "ir"
  },
  "language_info": {
   "codemirror_mode": "r",
   "file_extension": ".r",
   "mimetype": "text/x-r-source",
   "name": "R",
   "pygments_lexer": "r",
   "version": "3.4.3"
  }
 },
 "nbformat": 4,
 "nbformat_minor": 2
}
